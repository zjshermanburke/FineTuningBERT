{
 "cells": [
  {
   "cell_type": "code",
   "execution_count": 40,
   "metadata": {},
   "outputs": [],
   "source": [
    "# Python Imports\n",
    "import numpy as np\n",
    "import pandas as pd\n",
    "import seaborn as sn\n",
    "\n",
    "# Scikit-Learn Imports\n",
    "from sklearn.metrics import f1_score\n",
    "\n",
    "# PyTorch Imports\n",
    "import torch\n",
    "\n",
    "# Transformer Imports\n",
    "from datasets import load_dataset\n",
    "from transformers import AutoTokenizer, AutoModelForSequenceClassification, Trainer, TrainingArguments"
   ]
  },
  {
   "cell_type": "markdown",
   "metadata": {},
   "source": [
    "# Importing Financial Sentiment Analysis Data\n",
    "\n",
    "Data Source: [Kaggle Financial Sentiement Analysis](https://www.kaggle.com/datasets/sbhatti/financial-sentiment-analysis)"
   ]
  },
  {
   "cell_type": "code",
   "execution_count": 2,
   "metadata": {},
   "outputs": [],
   "source": [
    "df = pd.read_csv('./Data/FinancialSentimentAnalysis.csv')"
   ]
  },
  {
   "cell_type": "code",
   "execution_count": 3,
   "metadata": {},
   "outputs": [
    {
     "data": {
      "text/html": [
       "<div>\n",
       "<style scoped>\n",
       "    .dataframe tbody tr th:only-of-type {\n",
       "        vertical-align: middle;\n",
       "    }\n",
       "\n",
       "    .dataframe tbody tr th {\n",
       "        vertical-align: top;\n",
       "    }\n",
       "\n",
       "    .dataframe thead th {\n",
       "        text-align: right;\n",
       "    }\n",
       "</style>\n",
       "<table border=\"1\" class=\"dataframe\">\n",
       "  <thead>\n",
       "    <tr style=\"text-align: right;\">\n",
       "      <th></th>\n",
       "      <th>Sentence</th>\n",
       "      <th>Sentiment</th>\n",
       "    </tr>\n",
       "  </thead>\n",
       "  <tbody>\n",
       "    <tr>\n",
       "      <th>0</th>\n",
       "      <td>The GeoSolutions technology will leverage Bene...</td>\n",
       "      <td>positive</td>\n",
       "    </tr>\n",
       "    <tr>\n",
       "      <th>1</th>\n",
       "      <td>$ESI on lows, down $1.50 to $2.50 BK a real po...</td>\n",
       "      <td>negative</td>\n",
       "    </tr>\n",
       "    <tr>\n",
       "      <th>2</th>\n",
       "      <td>For the last quarter of 2010 , Componenta 's n...</td>\n",
       "      <td>positive</td>\n",
       "    </tr>\n",
       "    <tr>\n",
       "      <th>3</th>\n",
       "      <td>According to the Finnish-Russian Chamber of Co...</td>\n",
       "      <td>neutral</td>\n",
       "    </tr>\n",
       "    <tr>\n",
       "      <th>4</th>\n",
       "      <td>The Swedish buyout firm has sold its remaining...</td>\n",
       "      <td>neutral</td>\n",
       "    </tr>\n",
       "  </tbody>\n",
       "</table>\n",
       "</div>"
      ],
      "text/plain": [
       "                                            Sentence Sentiment\n",
       "0  The GeoSolutions technology will leverage Bene...  positive\n",
       "1  $ESI on lows, down $1.50 to $2.50 BK a real po...  negative\n",
       "2  For the last quarter of 2010 , Componenta 's n...  positive\n",
       "3  According to the Finnish-Russian Chamber of Co...   neutral\n",
       "4  The Swedish buyout firm has sold its remaining...   neutral"
      ]
     },
     "execution_count": 3,
     "metadata": {},
     "output_type": "execute_result"
    }
   ],
   "source": [
    "df.head()"
   ]
  },
  {
   "cell_type": "markdown",
   "metadata": {},
   "source": [
    "# Plotting Spread of Sentiment"
   ]
  },
  {
   "cell_type": "code",
   "execution_count": 4,
   "metadata": {},
   "outputs": [
    {
     "data": {
      "text/plain": [
       "<Axes: >"
      ]
     },
     "execution_count": 4,
     "metadata": {},
     "output_type": "execute_result"
    },
    {
     "data": {
      "image/png": "[encoded data removed]",
      "text/plain": [
       "<Figure size 640x480 with 1 Axes>"
      ]
     },
     "metadata": {},
     "output_type": "display_data"
    }
   ],
   "source": [
    "df['Sentiment'].hist()"
   ]
  },
  {
   "cell_type": "markdown",
   "metadata": {},
   "source": [
    "# Mapping Labels to Numerical Values"
   ]
  },
  {
   "cell_type": "code",
   "execution_count": 5,
   "metadata": {},
   "outputs": [],
   "source": [
    "target_map = {'negative': 0, 'neutral': 1, 'positive': 2}\n",
    "df['Target'] = df['Sentiment'].map(target_map)"
   ]
  },
  {
   "cell_type": "markdown",
   "metadata": {},
   "source": [
    "# Saving Numerically Mapped Data to CSV to Load with Hugging Face"
   ]
  },
  {
   "cell_type": "code",
   "execution_count": 6,
   "metadata": {},
   "outputs": [],
   "source": [
    "df_ = df[['Sentence', 'Target']]\n",
    "df_.columns = [['sentence', 'label']]\n",
    "df_.to_csv('./Data/MappedFinancialSentiment.csv', index=None)"
   ]
  },
  {
   "cell_type": "markdown",
   "metadata": {},
   "source": [
    "# Loading Data with Hugging Face Data Loader"
   ]
  },
  {
   "cell_type": "code",
   "execution_count": 7,
   "metadata": {},
   "outputs": [
    {
     "data": {
      "application/vnd.jupyter.widget-view+json": {
       "model_id": "e26a89a3bfef4900a6b7a6c4f1a8ba7a",
       "version_major": 2,
       "version_minor": 0
      },
      "text/plain": [
       "Generating train split: 0 examples [00:00, ? examples/s]"
      ]
     },
     "metadata": {},
     "output_type": "display_data"
    }
   ],
   "source": [
    "dataset = load_dataset('csv', data_files='./Data/MappedFinancialSentiment.csv')"
   ]
  },
  {
   "cell_type": "code",
   "execution_count": 8,
   "metadata": {},
   "outputs": [
    {
     "data": {
      "text/plain": [
       "DatasetDict({\n",
       "    train: Dataset({\n",
       "        features: ['sentence', 'label'],\n",
       "        num_rows: 5842\n",
       "    })\n",
       "})"
      ]
     },
     "execution_count": 8,
     "metadata": {},
     "output_type": "execute_result"
    }
   ],
   "source": [
    "# Previewing Dataset\n",
    "dataset"
   ]
  },
  {
   "cell_type": "markdown",
   "metadata": {},
   "source": [
    "# Creating Data Split"
   ]
  },
  {
   "cell_type": "code",
   "execution_count": 9,
   "metadata": {},
   "outputs": [],
   "source": [
    "split = dataset['train'].train_test_split(test_size=0.4)"
   ]
  },
  {
   "cell_type": "code",
   "execution_count": 46,
   "metadata": {},
   "outputs": [
    {
     "data": {
      "application/vnd.jupyter.widget-view+json": {
       "model_id": "857c4fe9828d47d1a614e74f17dc27db",
       "version_major": 2,
       "version_minor": 0
      },
      "text/plain": [
       "Creating CSV from Arrow format:   0%|          | 0/3 [00:00<?, ?ba/s]"
      ]
     },
     "metadata": {},
     "output_type": "display_data"
    },
    {
     "data": {
      "text/plain": [
       "284144"
      ]
     },
     "execution_count": 46,
     "metadata": {},
     "output_type": "execute_result"
    }
   ],
   "source": [
    "split['test'].to_csv('./Data/TestingData.csv', index=None)"
   ]
  },
  {
   "cell_type": "markdown",
   "metadata": {},
   "source": [
    "# Loading Checkpoints for Each BERT Model"
   ]
  },
  {
   "cell_type": "code",
   "execution_count": 10,
   "metadata": {},
   "outputs": [],
   "source": [
    "checkpoint_distilbert = 'distilbert-base-cased'\n",
    "checkpoint_bert = 'distilbert-base-cased'\n",
    "checkpoint_largebert = 'bert-large-cased'"
   ]
  },
  {
   "cell_type": "markdown",
   "metadata": {},
   "source": [
    "# Loading Tokenizer for Each BERT Model"
   ]
  },
  {
   "cell_type": "code",
   "execution_count": 11,
   "metadata": {},
   "outputs": [],
   "source": [
    "tokenizer_distilbert = AutoTokenizer.from_pretrained(checkpoint_distilbert)\n",
    "tokenizer_bert = AutoTokenizer.from_pretrained(checkpoint_bert)\n",
    "tokenizer_largebert = AutoTokenizer.from_pretrained(checkpoint_largebert)"
   ]
  },
  {
   "cell_type": "markdown",
   "metadata": {},
   "source": [
    "# Creating Tokenization Functions"
   ]
  },
  {
   "cell_type": "code",
   "execution_count": 12,
   "metadata": {},
   "outputs": [],
   "source": [
    "def tokenize_distilbert_fn(batch):\n",
    "  return tokenizer_distilbert(batch['sentence'], truncation=True)\n",
    "\n",
    "def tokenize_bert_fn(batch):\n",
    "  return tokenizer_bert(batch['sentence'], truncation=True)\n",
    "\n",
    "def tokenize_largebert_fn(batch):\n",
    "  return tokenizer_bert(batch['sentence'], truncation=True)"
   ]
  },
  {
   "cell_type": "code",
   "execution_count": 13,
   "metadata": {},
   "outputs": [
    {
     "data": {
      "application/vnd.jupyter.widget-view+json": {
       "model_id": "9d28a655d1c444b982a0b638bab8d69d",
       "version_major": 2,
       "version_minor": 0
      },
      "text/plain": [
       "Map:   0%|          | 0/3505 [00:00<?, ? examples/s]"
      ]
     },
     "metadata": {},
     "output_type": "display_data"
    },
    {
     "data": {
      "application/vnd.jupyter.widget-view+json": {
       "model_id": "d84ad8a50bc24e31aa6acf4afef6c83c",
       "version_major": 2,
       "version_minor": 0
      },
      "text/plain": [
       "Map:   0%|          | 0/2337 [00:00<?, ? examples/s]"
      ]
     },
     "metadata": {},
     "output_type": "display_data"
    },
    {
     "data": {
      "application/vnd.jupyter.widget-view+json": {
       "model_id": "73450a83833149329fb143c1cf656bcb",
       "version_major": 2,
       "version_minor": 0
      },
      "text/plain": [
       "Map:   0%|          | 0/3505 [00:00<?, ? examples/s]"
      ]
     },
     "metadata": {},
     "output_type": "display_data"
    },
    {
     "data": {
      "application/vnd.jupyter.widget-view+json": {
       "model_id": "31fd68de057b41a3aa6ae1fa42e172dd",
       "version_major": 2,
       "version_minor": 0
      },
      "text/plain": [
       "Map:   0%|          | 0/2337 [00:00<?, ? examples/s]"
      ]
     },
     "metadata": {},
     "output_type": "display_data"
    },
    {
     "data": {
      "application/vnd.jupyter.widget-view+json": {
       "model_id": "adc61d974c24457080051b6efa890f09",
       "version_major": 2,
       "version_minor": 0
      },
      "text/plain": [
       "Map:   0%|          | 0/3505 [00:00<?, ? examples/s]"
      ]
     },
     "metadata": {},
     "output_type": "display_data"
    },
    {
     "data": {
      "application/vnd.jupyter.widget-view+json": {
       "model_id": "ce006b0621954e859dd12a9a4a493214",
       "version_major": 2,
       "version_minor": 0
      },
      "text/plain": [
       "Map:   0%|          | 0/2337 [00:00<?, ? examples/s]"
      ]
     },
     "metadata": {},
     "output_type": "display_data"
    }
   ],
   "source": [
    "tokenized_datasets_distilbert = split.map(tokenize_distilbert_fn, batched=True)\n",
    "tokenized_datasets_bert = split.map(tokenize_bert_fn, batched=True)\n",
    "tokenized_datasets_largebert = split.map(tokenize_largebert_fn, batched=True)"
   ]
  },
  {
   "cell_type": "markdown",
   "metadata": {},
   "source": [
    "# Instantiating Base BERT Models\n",
    " This takes the pretrained BERT model and removes the final layer to be replaced with the number of output layer neurons specified by the user"
   ]
  },
  {
   "cell_type": "code",
   "execution_count": 14,
   "metadata": {},
   "outputs": [
    {
     "name": "stderr",
     "output_type": "stream",
     "text": [
      "Some weights of DistilBertForSequenceClassification were not initialized from the model checkpoint at distilbert-base-cased and are newly initialized: ['classifier.bias', 'classifier.weight', 'pre_classifier.bias', 'pre_classifier.weight']\n",
      "You should probably TRAIN this model on a down-stream task to be able to use it for predictions and inference.\n",
      "Some weights of DistilBertForSequenceClassification were not initialized from the model checkpoint at distilbert-base-cased and are newly initialized: ['classifier.bias', 'classifier.weight', 'pre_classifier.bias', 'pre_classifier.weight']\n",
      "You should probably TRAIN this model on a down-stream task to be able to use it for predictions and inference.\n",
      "Some weights of BertForSequenceClassification were not initialized from the model checkpoint at bert-large-cased and are newly initialized: ['classifier.bias', 'classifier.weight']\n",
      "You should probably TRAIN this model on a down-stream task to be able to use it for predictions and inference.\n"
     ]
    }
   ],
   "source": [
    "model_distilbert = AutoModelForSequenceClassification.from_pretrained(\n",
    "    checkpoint_distilbert, num_labels=3)\n",
    "\n",
    "model_bert = AutoModelForSequenceClassification.from_pretrained(\n",
    "    checkpoint_bert, num_labels=3)\n",
    "\n",
    "model_largebert = AutoModelForSequenceClassification.from_pretrained(\n",
    "    checkpoint_largebert, num_labels=3)"
   ]
  },
  {
   "cell_type": "markdown",
   "metadata": {},
   "source": [
    "# Creating Method for Computing Metrics"
   ]
  },
  {
   "cell_type": "code",
   "execution_count": 15,
   "metadata": {},
   "outputs": [],
   "source": [
    "def compute_metrics(logits_and_labels):\n",
    "  logits, labels = logits_and_labels\n",
    "  predictions = np.argmax(logits, axis=-1)\n",
    "  acc = np.mean(predictions == labels)\n",
    "  f1 = f1_score(labels, predictions, average='macro')\n",
    "  return {'accuracy': acc, 'f1': f1}"
   ]
  },
  {
   "cell_type": "markdown",
   "metadata": {},
   "source": [
    "# Creating Training Arguments"
   ]
  },
  {
   "cell_type": "code",
   "execution_count": 16,
   "metadata": {},
   "outputs": [],
   "source": [
    "training_args_distilbert = TrainingArguments(\n",
    "  output_dir='./Models/distil_bert_training',\n",
    "  evaluation_strategy='epoch',\n",
    "  save_strategy='epoch',\n",
    "  num_train_epochs=10,\n",
    "  per_device_train_batch_size=16,\n",
    "  per_device_eval_batch_size=64,\n",
    "  logging_steps=150, # otherwise, 'no log' will appear under training loss\n",
    ")\n",
    "\n",
    "training_args_bert = TrainingArguments(\n",
    "  output_dir='./Models/bert_training',\n",
    "  evaluation_strategy='epoch',\n",
    "  save_strategy='epoch',\n",
    "  num_train_epochs=10,\n",
    "  per_device_train_batch_size=16,\n",
    "  per_device_eval_batch_size=64,\n",
    "  logging_steps=150, # otherwise, 'no log' will appear under training loss\n",
    ")\n",
    "\n",
    "training_args_largebert = TrainingArguments(\n",
    "  output_dir='./Models/large_bert_training',\n",
    "  evaluation_strategy='epoch',\n",
    "  save_strategy='epoch',\n",
    "  num_train_epochs=10,\n",
    "  per_device_train_batch_size=16,\n",
    "  per_device_eval_batch_size=64,\n",
    "  logging_steps=150, # otherwise, 'no log' will appear under training loss\n",
    ")"
   ]
  },
  {
   "cell_type": "markdown",
   "metadata": {},
   "source": [
    "# Creating Trainer Objects"
   ]
  },
  {
   "cell_type": "code",
   "execution_count": 17,
   "metadata": {},
   "outputs": [
    {
     "name": "stderr",
     "output_type": "stream",
     "text": [
      "c:\\Users\\zjshe\\anaconda3\\envs\\pytorch-gpu\\lib\\site-packages\\accelerate\\accelerator.py:436: FutureWarning: Passing the following arguments to `Accelerator` is deprecated and will be removed in version 1.0 of Accelerate: dict_keys(['dispatch_batches', 'split_batches']). Please pass an `accelerate.DataLoaderConfiguration` instead: \n",
      "dataloader_config = DataLoaderConfiguration(dispatch_batches=None, split_batches=False)\n",
      "  warnings.warn(\n"
     ]
    }
   ],
   "source": [
    "trainer_distilbert = Trainer(\n",
    "    model_distilbert,\n",
    "    training_args_distilbert,\n",
    "    train_dataset=tokenized_datasets_distilbert[\"train\"],\n",
    "    eval_dataset=tokenized_datasets_distilbert[\"test\"],\n",
    "    tokenizer=tokenizer_distilbert,\n",
    "    compute_metrics=compute_metrics,\n",
    ")\n",
    "\n",
    "trainer_bert = Trainer(\n",
    "    model_bert,\n",
    "    training_args_bert,\n",
    "    train_dataset=tokenized_datasets_bert[\"train\"],\n",
    "    eval_dataset=tokenized_datasets_bert[\"test\"],\n",
    "    tokenizer=tokenizer_bert,\n",
    "    compute_metrics=compute_metrics,\n",
    ")\n",
    "\n",
    "trainer_largebert = Trainer(\n",
    "    model_largebert,\n",
    "    training_args_largebert,\n",
    "    train_dataset=tokenized_datasets_largebert[\"train\"],\n",
    "    eval_dataset=tokenized_datasets_largebert[\"test\"],\n",
    "    tokenizer=tokenizer_largebert,\n",
    "    compute_metrics=compute_metrics,\n",
    ")"
   ]
  },
  {
   "cell_type": "markdown",
   "metadata": {},
   "source": [
    "# Training and Saving Models"
   ]
  },
  {
   "cell_type": "code",
   "execution_count": 18,
   "metadata": {},
   "outputs": [
    {
     "data": {
      "application/vnd.jupyter.widget-view+json": {
       "model_id": "9a5b21d1a0a34825859ce2796212a6fc",
       "version_major": 2,
       "version_minor": 0
      },
      "text/plain": [
       "  0%|          | 0/2200 [00:00<?, ?it/s]"
      ]
     },
     "metadata": {},
     "output_type": "display_data"
    },
    {
     "name": "stdout",
     "output_type": "stream",
     "text": [
      "{'loss': 0.7135, 'learning_rate': 4.659090909090909e-05, 'epoch': 0.68}\n"
     ]
    },
    {
     "data": {
      "application/vnd.jupyter.widget-view+json": {
       "model_id": "9b9ddba7dcfc411b8d087c7e1d7fe43a",
       "version_major": 2,
       "version_minor": 0
      },
      "text/plain": [
       "  0%|          | 0/37 [00:00<?, ?it/s]"
      ]
     },
     "metadata": {},
     "output_type": "display_data"
    },
    {
     "name": "stdout",
     "output_type": "stream",
     "text": [
      "{'eval_loss': 0.5067263245582581, 'eval_accuracy': 0.7774925117672229, 'eval_f1': 0.643538793100549, 'eval_runtime': 0.6829, 'eval_samples_per_second': 3421.922, 'eval_steps_per_second': 54.177, 'epoch': 1.0}\n",
      "{'loss': 0.4426, 'learning_rate': 4.318181818181819e-05, 'epoch': 1.36}\n"
     ]
    },
    {
     "data": {
      "application/vnd.jupyter.widget-view+json": {
       "model_id": "76c07bb138ff42c898a8a3ab494b18df",
       "version_major": 2,
       "version_minor": 0
      },
      "text/plain": [
       "  0%|          | 0/37 [00:00<?, ?it/s]"
      ]
     },
     "metadata": {},
     "output_type": "display_data"
    },
    {
     "name": "stdout",
     "output_type": "stream",
     "text": [
      "{'eval_loss': 0.4865158498287201, 'eval_accuracy': 0.7796320068463842, 'eval_f1': 0.7384166450236113, 'eval_runtime': 0.6791, 'eval_samples_per_second': 3441.195, 'eval_steps_per_second': 54.482, 'epoch': 2.0}\n",
      "{'loss': 0.3712, 'learning_rate': 3.9772727272727275e-05, 'epoch': 2.05}\n",
      "{'loss': 0.2649, 'learning_rate': 3.6363636363636364e-05, 'epoch': 2.73}\n"
     ]
    },
    {
     "data": {
      "application/vnd.jupyter.widget-view+json": {
       "model_id": "c2c168b8911d41f8bead15f3e2266ef7",
       "version_major": 2,
       "version_minor": 0
      },
      "text/plain": [
       "  0%|          | 0/37 [00:00<?, ?it/s]"
      ]
     },
     "metadata": {},
     "output_type": "display_data"
    },
    {
     "name": "stdout",
     "output_type": "stream",
     "text": [
      "{'eval_loss': 0.6214855909347534, 'eval_accuracy': 0.8014548566538297, 'eval_f1': 0.6944103762549149, 'eval_runtime': 0.6816, 'eval_samples_per_second': 3428.669, 'eval_steps_per_second': 54.284, 'epoch': 3.0}\n",
      "{'loss': 0.2023, 'learning_rate': 3.295454545454545e-05, 'epoch': 3.41}\n"
     ]
    },
    {
     "data": {
      "application/vnd.jupyter.widget-view+json": {
       "model_id": "5f58327a23a546ff89cf9fd4e8a6c58a",
       "version_major": 2,
       "version_minor": 0
      },
      "text/plain": [
       "  0%|          | 0/37 [00:00<?, ?it/s]"
      ]
     },
     "metadata": {},
     "output_type": "display_data"
    },
    {
     "name": "stdout",
     "output_type": "stream",
     "text": [
      "{'eval_loss': 0.7551543712615967, 'eval_accuracy': 0.7650834403080873, 'eval_f1': 0.7025593870538073, 'eval_runtime': 0.6731, 'eval_samples_per_second': 3471.864, 'eval_steps_per_second': 54.967, 'epoch': 4.0}\n",
      "{'loss': 0.2022, 'learning_rate': 2.954545454545455e-05, 'epoch': 4.09}\n",
      "{'loss': 0.1614, 'learning_rate': 2.6136363636363637e-05, 'epoch': 4.77}\n"
     ]
    },
    {
     "data": {
      "application/vnd.jupyter.widget-view+json": {
       "model_id": "cd4493a2e93a4e599e9e2570f2f3091a",
       "version_major": 2,
       "version_minor": 0
      },
      "text/plain": [
       "  0%|          | 0/37 [00:00<?, ?it/s]"
      ]
     },
     "metadata": {},
     "output_type": "display_data"
    },
    {
     "name": "stdout",
     "output_type": "stream",
     "text": [
      "{'eval_loss': 0.9140689969062805, 'eval_accuracy': 0.7685066324347454, 'eval_f1': 0.7052717340318152, 'eval_runtime': 0.6874, 'eval_samples_per_second': 3399.531, 'eval_steps_per_second': 53.822, 'epoch': 5.0}\n",
      "{'loss': 0.1405, 'learning_rate': 2.272727272727273e-05, 'epoch': 5.45}\n"
     ]
    },
    {
     "data": {
      "application/vnd.jupyter.widget-view+json": {
       "model_id": "911b40ac8c4e4feba84e6018f5fa5d50",
       "version_major": 2,
       "version_minor": 0
      },
      "text/plain": [
       "  0%|          | 0/37 [00:00<?, ?it/s]"
      ]
     },
     "metadata": {},
     "output_type": "display_data"
    },
    {
     "name": "stdout",
     "output_type": "stream",
     "text": [
      "{'eval_loss': 0.9310536980628967, 'eval_accuracy': 0.764655541292255, 'eval_f1': 0.7039866345862845, 'eval_runtime': 0.6877, 'eval_samples_per_second': 3398.397, 'eval_steps_per_second': 53.804, 'epoch': 6.0}\n",
      "{'loss': 0.142, 'learning_rate': 1.9318181818181818e-05, 'epoch': 6.14}\n",
      "{'loss': 0.1488, 'learning_rate': 1.590909090909091e-05, 'epoch': 6.82}\n"
     ]
    },
    {
     "data": {
      "application/vnd.jupyter.widget-view+json": {
       "model_id": "936bb6c306064466a96d5b6fe0892fda",
       "version_major": 2,
       "version_minor": 0
      },
      "text/plain": [
       "  0%|          | 0/37 [00:00<?, ?it/s]"
      ]
     },
     "metadata": {},
     "output_type": "display_data"
    },
    {
     "name": "stdout",
     "output_type": "stream",
     "text": [
      "{'eval_loss': 1.0028270483016968, 'eval_accuracy': 0.7603765511339324, 'eval_f1': 0.6816127476252851, 'eval_runtime': 0.6813, 'eval_samples_per_second': 3430.249, 'eval_steps_per_second': 54.309, 'epoch': 7.0}\n",
      "{'loss': 0.1198, 'learning_rate': 1.25e-05, 'epoch': 7.5}\n"
     ]
    },
    {
     "data": {
      "application/vnd.jupyter.widget-view+json": {
       "model_id": "0f8bc17bc2e64e35b22e176c351559a1",
       "version_major": 2,
       "version_minor": 0
      },
      "text/plain": [
       "  0%|          | 0/37 [00:00<?, ?it/s]"
      ]
     },
     "metadata": {},
     "output_type": "display_data"
    },
    {
     "name": "stdout",
     "output_type": "stream",
     "text": [
      "{'eval_loss': 1.0544263124465942, 'eval_accuracy': 0.7599486521181001, 'eval_f1': 0.6800547470285939, 'eval_runtime': 0.6821, 'eval_samples_per_second': 3426.094, 'eval_steps_per_second': 54.243, 'epoch': 8.0}\n",
      "{'loss': 0.1117, 'learning_rate': 9.090909090909091e-06, 'epoch': 8.18}\n",
      "{'loss': 0.1158, 'learning_rate': 5.681818181818182e-06, 'epoch': 8.86}\n"
     ]
    },
    {
     "data": {
      "application/vnd.jupyter.widget-view+json": {
       "model_id": "f1c060d198574902b17e7820e230c04f",
       "version_major": 2,
       "version_minor": 0
      },
      "text/plain": [
       "  0%|          | 0/37 [00:00<?, ?it/s]"
      ]
     },
     "metadata": {},
     "output_type": "display_data"
    },
    {
     "name": "stdout",
     "output_type": "stream",
     "text": [
      "{'eval_loss': 1.1105910539627075, 'eval_accuracy': 0.7620881471972615, 'eval_f1': 0.6781706846101415, 'eval_runtime': 0.6702, 'eval_samples_per_second': 3487.193, 'eval_steps_per_second': 55.21, 'epoch': 9.0}\n",
      "{'loss': 0.0951, 'learning_rate': 2.2727272727272728e-06, 'epoch': 9.55}\n"
     ]
    },
    {
     "data": {
      "application/vnd.jupyter.widget-view+json": {
       "model_id": "4de567153a624dc3af7aaf6e65acc7db",
       "version_major": 2,
       "version_minor": 0
      },
      "text/plain": [
       "  0%|          | 0/37 [00:00<?, ?it/s]"
      ]
     },
     "metadata": {},
     "output_type": "display_data"
    },
    {
     "name": "stdout",
     "output_type": "stream",
     "text": [
      "{'eval_loss': 1.1875377893447876, 'eval_accuracy': 0.7595207531022679, 'eval_f1': 0.6781241395996159, 'eval_runtime': 0.676, 'eval_samples_per_second': 3457.263, 'eval_steps_per_second': 54.736, 'epoch': 10.0}\n",
      "{'train_runtime': 59.4073, 'train_samples_per_second': 589.995, 'train_steps_per_second': 37.032, 'train_loss': 0.22632480491291393, 'epoch': 10.0}\n"
     ]
    },
    {
     "data": {
      "text/plain": [
       "TrainOutput(global_step=2200, training_loss=0.22632480491291393, metrics={'train_runtime': 59.4073, 'train_samples_per_second': 589.995, 'train_steps_per_second': 37.032, 'train_loss': 0.22632480491291393, 'epoch': 10.0})"
      ]
     },
     "execution_count": 18,
     "metadata": {},
     "output_type": "execute_result"
    }
   ],
   "source": [
    "trainer_distilbert.train()"
   ]
  },
  {
   "cell_type": "code",
   "execution_count": 19,
   "metadata": {},
   "outputs": [],
   "source": [
    "trainer_distilbert.save_model('distilBERT')"
   ]
  },
  {
   "cell_type": "code",
   "execution_count": 20,
   "metadata": {},
   "outputs": [],
   "source": [
    "# Clearing Cache Manually to Help with Memory Management\n",
    "torch.cuda.empty_cache()"
   ]
  },
  {
   "cell_type": "code",
   "execution_count": 22,
   "metadata": {},
   "outputs": [
    {
     "data": {
      "application/vnd.jupyter.widget-view+json": {
       "model_id": "09598ee66fcf4ee099c9cedcd1215317",
       "version_major": 2,
       "version_minor": 0
      },
      "text/plain": [
       "  0%|          | 0/2200 [00:00<?, ?it/s]"
      ]
     },
     "metadata": {},
     "output_type": "display_data"
    },
    {
     "name": "stdout",
     "output_type": "stream",
     "text": [
      "{'loss': 0.3552, 'learning_rate': 4.659090909090909e-05, 'epoch': 0.68}\n"
     ]
    },
    {
     "data": {
      "application/vnd.jupyter.widget-view+json": {
       "model_id": "0e0e02c31fa54aab80c0872055334dce",
       "version_major": 2,
       "version_minor": 0
      },
      "text/plain": [
       "  0%|          | 0/37 [00:00<?, ?it/s]"
      ]
     },
     "metadata": {},
     "output_type": "display_data"
    },
    {
     "name": "stdout",
     "output_type": "stream",
     "text": [
      "{'eval_loss': 0.514566957950592, 'eval_accuracy': 0.79204107830552, 'eval_f1': 0.672373606519948, 'eval_runtime': 0.7012, 'eval_samples_per_second': 3332.904, 'eval_steps_per_second': 52.767, 'epoch': 1.0}\n",
      "{'loss': 0.3257, 'learning_rate': 4.318181818181819e-05, 'epoch': 1.36}\n"
     ]
    },
    {
     "data": {
      "application/vnd.jupyter.widget-view+json": {
       "model_id": "84beea627e65435da459e8ae4eeb2821",
       "version_major": 2,
       "version_minor": 0
      },
      "text/plain": [
       "  0%|          | 0/37 [00:00<?, ?it/s]"
      ]
     },
     "metadata": {},
     "output_type": "display_data"
    },
    {
     "name": "stdout",
     "output_type": "stream",
     "text": [
      "{'eval_loss': 0.7461713552474976, 'eval_accuracy': 0.7680787334189131, 'eval_f1': 0.6953377774055362, 'eval_runtime': 0.6829, 'eval_samples_per_second': 3422.023, 'eval_steps_per_second': 54.178, 'epoch': 2.0}\n",
      "{'loss': 0.2828, 'learning_rate': 3.9772727272727275e-05, 'epoch': 2.05}\n",
      "{'loss': 0.2029, 'learning_rate': 3.6363636363636364e-05, 'epoch': 2.73}\n"
     ]
    },
    {
     "data": {
      "application/vnd.jupyter.widget-view+json": {
       "model_id": "35697e2a681740e789a7c8213e2c2e1b",
       "version_major": 2,
       "version_minor": 0
      },
      "text/plain": [
       "  0%|          | 0/37 [00:00<?, ?it/s]"
      ]
     },
     "metadata": {},
     "output_type": "display_data"
    },
    {
     "name": "stdout",
     "output_type": "stream",
     "text": [
      "{'eval_loss': 0.8606283664703369, 'eval_accuracy': 0.766367137355584, 'eval_f1': 0.6941133709909773, 'eval_runtime': 0.6751, 'eval_samples_per_second': 3461.655, 'eval_steps_per_second': 54.806, 'epoch': 3.0}\n",
      "{'loss': 0.1764, 'learning_rate': 3.295454545454545e-05, 'epoch': 3.41}\n"
     ]
    },
    {
     "data": {
      "application/vnd.jupyter.widget-view+json": {
       "model_id": "8a0179cb182a4ea8b5987d22c3d447d5",
       "version_major": 2,
       "version_minor": 0
      },
      "text/plain": [
       "  0%|          | 0/37 [00:00<?, ?it/s]"
      ]
     },
     "metadata": {},
     "output_type": "display_data"
    },
    {
     "name": "stdout",
     "output_type": "stream",
     "text": [
      "{'eval_loss': 0.9487983584403992, 'eval_accuracy': 0.7757809157038938, 'eval_f1': 0.7241242684076822, 'eval_runtime': 0.6672, 'eval_samples_per_second': 3502.864, 'eval_steps_per_second': 55.458, 'epoch': 4.0}\n",
      "{'loss': 0.1655, 'learning_rate': 2.954545454545455e-05, 'epoch': 4.09}\n",
      "{'loss': 0.14, 'learning_rate': 2.6136363636363637e-05, 'epoch': 4.77}\n"
     ]
    },
    {
     "data": {
      "application/vnd.jupyter.widget-view+json": {
       "model_id": "e6ee3f80ff664285a976cb2b9e60b096",
       "version_major": 2,
       "version_minor": 0
      },
      "text/plain": [
       "  0%|          | 0/37 [00:00<?, ?it/s]"
      ]
     },
     "metadata": {},
     "output_type": "display_data"
    },
    {
     "name": "stdout",
     "output_type": "stream",
     "text": [
      "{'eval_loss': 1.0000722408294678, 'eval_accuracy': 0.7685066324347454, 'eval_f1': 0.7090218616455181, 'eval_runtime': 0.6819, 'eval_samples_per_second': 3427.402, 'eval_steps_per_second': 54.264, 'epoch': 5.0}\n",
      "{'loss': 0.1541, 'learning_rate': 2.272727272727273e-05, 'epoch': 5.45}\n"
     ]
    },
    {
     "data": {
      "application/vnd.jupyter.widget-view+json": {
       "model_id": "f9b12812c5814962bf2bbf028af9494e",
       "version_major": 2,
       "version_minor": 0
      },
      "text/plain": [
       "  0%|          | 0/37 [00:00<?, ?it/s]"
      ]
     },
     "metadata": {},
     "output_type": "display_data"
    },
    {
     "name": "stdout",
     "output_type": "stream",
     "text": [
      "{'eval_loss': 0.9620106816291809, 'eval_accuracy': 0.7911852802738554, 'eval_f1': 0.6789771477236025, 'eval_runtime': 0.6723, 'eval_samples_per_second': 3476.304, 'eval_steps_per_second': 55.038, 'epoch': 6.0}\n",
      "{'loss': 0.1322, 'learning_rate': 1.9318181818181818e-05, 'epoch': 6.14}\n",
      "{'loss': 0.1342, 'learning_rate': 1.590909090909091e-05, 'epoch': 6.82}\n"
     ]
    },
    {
     "data": {
      "application/vnd.jupyter.widget-view+json": {
       "model_id": "09ad6f5e2f464a15be846c3ea21e264a",
       "version_major": 2,
       "version_minor": 0
      },
      "text/plain": [
       "  0%|          | 0/37 [00:00<?, ?it/s]"
      ]
     },
     "metadata": {},
     "output_type": "display_data"
    },
    {
     "name": "stdout",
     "output_type": "stream",
     "text": [
      "{'eval_loss': 1.0840208530426025, 'eval_accuracy': 0.7599486521181001, 'eval_f1': 0.6961205950753339, 'eval_runtime': 0.674, 'eval_samples_per_second': 3467.598, 'eval_steps_per_second': 54.9, 'epoch': 7.0}\n",
      "{'loss': 0.114, 'learning_rate': 1.25e-05, 'epoch': 7.5}\n"
     ]
    },
    {
     "data": {
      "application/vnd.jupyter.widget-view+json": {
       "model_id": "8314f8847a384598a718852f16b6c471",
       "version_major": 2,
       "version_minor": 0
      },
      "text/plain": [
       "  0%|          | 0/37 [00:00<?, ?it/s]"
      ]
     },
     "metadata": {},
     "output_type": "display_data"
    },
    {
     "name": "stdout",
     "output_type": "stream",
     "text": [
      "{'eval_loss': 1.1910851001739502, 'eval_accuracy': 0.7650834403080873, 'eval_f1': 0.6976080966907959, 'eval_runtime': 0.6888, 'eval_samples_per_second': 3392.915, 'eval_steps_per_second': 53.718, 'epoch': 8.0}\n",
      "{'loss': 0.1131, 'learning_rate': 9.090909090909091e-06, 'epoch': 8.18}\n",
      "{'loss': 0.108, 'learning_rate': 5.681818181818182e-06, 'epoch': 8.86}\n"
     ]
    },
    {
     "data": {
      "application/vnd.jupyter.widget-view+json": {
       "model_id": "efd4ed93cb014b3fade35743a80e9ea6",
       "version_major": 2,
       "version_minor": 0
      },
      "text/plain": [
       "  0%|          | 0/37 [00:00<?, ?it/s]"
      ]
     },
     "metadata": {},
     "output_type": "display_data"
    },
    {
     "name": "stdout",
     "output_type": "stream",
     "text": [
      "{'eval_loss': 1.2384312152862549, 'eval_accuracy': 0.764655541292255, 'eval_f1': 0.6725027006879077, 'eval_runtime': 0.6996, 'eval_samples_per_second': 3340.354, 'eval_steps_per_second': 52.885, 'epoch': 9.0}\n",
      "{'loss': 0.0968, 'learning_rate': 2.2727272727272728e-06, 'epoch': 9.55}\n"
     ]
    },
    {
     "data": {
      "application/vnd.jupyter.widget-view+json": {
       "model_id": "a901970901bd4f74b2b20d05e04cda3e",
       "version_major": 2,
       "version_minor": 0
      },
      "text/plain": [
       "  0%|          | 0/37 [00:00<?, ?it/s]"
      ]
     },
     "metadata": {},
     "output_type": "display_data"
    },
    {
     "name": "stdout",
     "output_type": "stream",
     "text": [
      "{'eval_loss': 1.2909374237060547, 'eval_accuracy': 0.762943945228926, 'eval_f1': 0.6763763202465637, 'eval_runtime': 0.7065, 'eval_samples_per_second': 3307.729, 'eval_steps_per_second': 52.369, 'epoch': 10.0}\n",
      "{'train_runtime': 58.8355, 'train_samples_per_second': 595.728, 'train_steps_per_second': 37.392, 'train_loss': 0.17466052228754217, 'epoch': 10.0}\n"
     ]
    },
    {
     "data": {
      "text/plain": [
       "TrainOutput(global_step=2200, training_loss=0.17466052228754217, metrics={'train_runtime': 58.8355, 'train_samples_per_second': 595.728, 'train_steps_per_second': 37.392, 'train_loss': 0.17466052228754217, 'epoch': 10.0})"
      ]
     },
     "execution_count": 22,
     "metadata": {},
     "output_type": "execute_result"
    }
   ],
   "source": [
    "trainer_bert.train()"
   ]
  },
  {
   "cell_type": "code",
   "execution_count": 23,
   "metadata": {},
   "outputs": [],
   "source": [
    "trainer_bert.save_model('BERTModel')"
   ]
  },
  {
   "cell_type": "code",
   "execution_count": 24,
   "metadata": {},
   "outputs": [],
   "source": [
    "# Clearing Cache Manually to Help with Memory Management\n",
    "torch.cuda.empty_cache()"
   ]
  },
  {
   "cell_type": "code",
   "execution_count": 25,
   "metadata": {},
   "outputs": [
    {
     "data": {
      "application/vnd.jupyter.widget-view+json": {
       "model_id": "5c7eba4fc54a4b6ea69a067698308335",
       "version_major": 2,
       "version_minor": 0
      },
      "text/plain": [
       "  0%|          | 0/2200 [00:00<?, ?it/s]"
      ]
     },
     "metadata": {},
     "output_type": "display_data"
    },
    {
     "name": "stdout",
     "output_type": "stream",
     "text": [
      "{'loss': 1.0134, 'learning_rate': 4.659090909090909e-05, 'epoch': 0.68}\n"
     ]
    },
    {
     "data": {
      "application/vnd.jupyter.widget-view+json": {
       "model_id": "e33b55f512e5477b95bce6902415bac0",
       "version_major": 2,
       "version_minor": 0
      },
      "text/plain": [
       "  0%|          | 0/37 [00:00<?, ?it/s]"
      ]
     },
     "metadata": {},
     "output_type": "display_data"
    },
    {
     "name": "stdout",
     "output_type": "stream",
     "text": [
      "{'eval_loss': 1.0030232667922974, 'eval_accuracy': 0.5387248609328199, 'eval_f1': 0.23340748980348536, 'eval_runtime': 3.6625, 'eval_samples_per_second': 638.084, 'eval_steps_per_second': 10.102, 'epoch': 1.0}\n",
      "{'loss': 0.9883, 'learning_rate': 4.318181818181819e-05, 'epoch': 1.36}\n"
     ]
    },
    {
     "data": {
      "application/vnd.jupyter.widget-view+json": {
       "model_id": "16f0c6f1c41143eaa05c44ac9a972e70",
       "version_major": 2,
       "version_minor": 0
      },
      "text/plain": [
       "  0%|          | 0/37 [00:00<?, ?it/s]"
      ]
     },
     "metadata": {},
     "output_type": "display_data"
    },
    {
     "name": "stdout",
     "output_type": "stream",
     "text": [
      "{'eval_loss': 0.990476131439209, 'eval_accuracy': 0.5387248609328199, 'eval_f1': 0.23340748980348536, 'eval_runtime': 3.6648, 'eval_samples_per_second': 637.696, 'eval_steps_per_second': 10.096, 'epoch': 2.0}\n",
      "{'loss': 1.0091, 'learning_rate': 3.9772727272727275e-05, 'epoch': 2.05}\n",
      "{'loss': 1.0006, 'learning_rate': 3.6363636363636364e-05, 'epoch': 2.73}\n"
     ]
    },
    {
     "data": {
      "application/vnd.jupyter.widget-view+json": {
       "model_id": "837c38d14be046b69c16a1c736a42777",
       "version_major": 2,
       "version_minor": 0
      },
      "text/plain": [
       "  0%|          | 0/37 [00:00<?, ?it/s]"
      ]
     },
     "metadata": {},
     "output_type": "display_data"
    },
    {
     "name": "stdout",
     "output_type": "stream",
     "text": [
      "{'eval_loss': 0.9843916893005371, 'eval_accuracy': 0.5387248609328199, 'eval_f1': 0.23340748980348536, 'eval_runtime': 3.4656, 'eval_samples_per_second': 674.335, 'eval_steps_per_second': 10.676, 'epoch': 3.0}\n",
      "{'loss': 1.0031, 'learning_rate': 3.295454545454545e-05, 'epoch': 3.41}\n"
     ]
    },
    {
     "data": {
      "application/vnd.jupyter.widget-view+json": {
       "model_id": "d5cd071d32ca43d7a80996a9c0bbb57f",
       "version_major": 2,
       "version_minor": 0
      },
      "text/plain": [
       "  0%|          | 0/37 [00:00<?, ?it/s]"
      ]
     },
     "metadata": {},
     "output_type": "display_data"
    },
    {
     "name": "stdout",
     "output_type": "stream",
     "text": [
      "{'eval_loss': 0.9808838963508606, 'eval_accuracy': 0.5387248609328199, 'eval_f1': 0.23340748980348536, 'eval_runtime': 3.6832, 'eval_samples_per_second': 634.503, 'eval_steps_per_second': 10.046, 'epoch': 4.0}\n",
      "{'loss': 1.0096, 'learning_rate': 2.954545454545455e-05, 'epoch': 4.09}\n",
      "{'loss': 0.996, 'learning_rate': 2.6136363636363637e-05, 'epoch': 4.77}\n"
     ]
    },
    {
     "data": {
      "application/vnd.jupyter.widget-view+json": {
       "model_id": "69fef8528af843cc9c6e65b534dfdd33",
       "version_major": 2,
       "version_minor": 0
      },
      "text/plain": [
       "  0%|          | 0/37 [00:00<?, ?it/s]"
      ]
     },
     "metadata": {},
     "output_type": "display_data"
    },
    {
     "name": "stdout",
     "output_type": "stream",
     "text": [
      "{'eval_loss': 0.9787450432777405, 'eval_accuracy': 0.5387248609328199, 'eval_f1': 0.23340748980348536, 'eval_runtime': 3.6871, 'eval_samples_per_second': 633.826, 'eval_steps_per_second': 10.035, 'epoch': 5.0}\n",
      "{'loss': 1.0087, 'learning_rate': 2.272727272727273e-05, 'epoch': 5.45}\n"
     ]
    },
    {
     "data": {
      "application/vnd.jupyter.widget-view+json": {
       "model_id": "75295a8bec7245d8a1f2022dd7586b91",
       "version_major": 2,
       "version_minor": 0
      },
      "text/plain": [
       "  0%|          | 0/37 [00:00<?, ?it/s]"
      ]
     },
     "metadata": {},
     "output_type": "display_data"
    },
    {
     "name": "stdout",
     "output_type": "stream",
     "text": [
      "{'eval_loss': 0.9790253043174744, 'eval_accuracy': 0.5387248609328199, 'eval_f1': 0.23340748980348536, 'eval_runtime': 3.6788, 'eval_samples_per_second': 635.269, 'eval_steps_per_second': 10.058, 'epoch': 6.0}\n",
      "{'loss': 0.9904, 'learning_rate': 1.9318181818181818e-05, 'epoch': 6.14}\n",
      "{'loss': 1.0025, 'learning_rate': 1.590909090909091e-05, 'epoch': 6.82}\n"
     ]
    },
    {
     "data": {
      "application/vnd.jupyter.widget-view+json": {
       "model_id": "ad077dba12e3480eb061eecddb1cbeb2",
       "version_major": 2,
       "version_minor": 0
      },
      "text/plain": [
       "  0%|          | 0/37 [00:00<?, ?it/s]"
      ]
     },
     "metadata": {},
     "output_type": "display_data"
    },
    {
     "name": "stdout",
     "output_type": "stream",
     "text": [
      "{'eval_loss': 0.9811078906059265, 'eval_accuracy': 0.5387248609328199, 'eval_f1': 0.23340748980348536, 'eval_runtime': 3.6468, 'eval_samples_per_second': 640.842, 'eval_steps_per_second': 10.146, 'epoch': 7.0}\n",
      "{'loss': 0.9862, 'learning_rate': 1.25e-05, 'epoch': 7.5}\n"
     ]
    },
    {
     "data": {
      "application/vnd.jupyter.widget-view+json": {
       "model_id": "4fe408cde52b4f79b5f7f16f8e054243",
       "version_major": 2,
       "version_minor": 0
      },
      "text/plain": [
       "  0%|          | 0/37 [00:00<?, ?it/s]"
      ]
     },
     "metadata": {},
     "output_type": "display_data"
    },
    {
     "name": "stdout",
     "output_type": "stream",
     "text": [
      "{'eval_loss': 0.9794172048568726, 'eval_accuracy': 0.5387248609328199, 'eval_f1': 0.23340748980348536, 'eval_runtime': 3.6818, 'eval_samples_per_second': 634.739, 'eval_steps_per_second': 10.049, 'epoch': 8.0}\n",
      "{'loss': 0.994, 'learning_rate': 9.090909090909091e-06, 'epoch': 8.18}\n",
      "{'loss': 0.9959, 'learning_rate': 5.681818181818182e-06, 'epoch': 8.86}\n"
     ]
    },
    {
     "data": {
      "application/vnd.jupyter.widget-view+json": {
       "model_id": "94d9c001c5744aebb13db98c33b5f84b",
       "version_major": 2,
       "version_minor": 0
      },
      "text/plain": [
       "  0%|          | 0/37 [00:00<?, ?it/s]"
      ]
     },
     "metadata": {},
     "output_type": "display_data"
    },
    {
     "name": "stdout",
     "output_type": "stream",
     "text": [
      "{'eval_loss': 0.9801177382469177, 'eval_accuracy': 0.5387248609328199, 'eval_f1': 0.23340748980348536, 'eval_runtime': 3.6749, 'eval_samples_per_second': 635.937, 'eval_steps_per_second': 10.068, 'epoch': 9.0}\n",
      "{'loss': 0.9756, 'learning_rate': 2.2727272727272728e-06, 'epoch': 9.55}\n"
     ]
    },
    {
     "data": {
      "application/vnd.jupyter.widget-view+json": {
       "model_id": "97f1db9a74f34093a33e216f88646d97",
       "version_major": 2,
       "version_minor": 0
      },
      "text/plain": [
       "  0%|          | 0/37 [00:00<?, ?it/s]"
      ]
     },
     "metadata": {},
     "output_type": "display_data"
    },
    {
     "name": "stdout",
     "output_type": "stream",
     "text": [
      "{'eval_loss': 0.9787930846214294, 'eval_accuracy': 0.5387248609328199, 'eval_f1': 0.23340748980348536, 'eval_runtime': 3.6903, 'eval_samples_per_second': 633.277, 'eval_steps_per_second': 10.026, 'epoch': 10.0}\n",
      "{'train_runtime': 273.1699, 'train_samples_per_second': 128.308, 'train_steps_per_second': 8.054, 'train_loss': 0.9983211690729314, 'epoch': 10.0}\n"
     ]
    },
    {
     "data": {
      "text/plain": [
       "TrainOutput(global_step=2200, training_loss=0.9983211690729314, metrics={'train_runtime': 273.1699, 'train_samples_per_second': 128.308, 'train_steps_per_second': 8.054, 'train_loss': 0.9983211690729314, 'epoch': 10.0})"
      ]
     },
     "execution_count": 25,
     "metadata": {},
     "output_type": "execute_result"
    }
   ],
   "source": [
    "trainer_largebert.train()"
   ]
  },
  {
   "cell_type": "code",
   "execution_count": 26,
   "metadata": {},
   "outputs": [],
   "source": [
    "trainer_largebert.save_model('LargeBERT')"
   ]
  },
  {
   "cell_type": "code",
   "execution_count": 27,
   "metadata": {},
   "outputs": [],
   "source": [
    "# Clearing Cache Manually to Help with Memory Management\n",
    "torch.cuda.empty_cache()"
   ]
  }
 ],
 "metadata": {
  "kernelspec": {
   "display_name": "tf-gpu",
   "language": "python",
   "name": "python3"
  },
  "language_info": {
   "codemirror_mode": {
    "name": "ipython",
    "version": 3
   },
   "file_extension": ".py",
   "mimetype": "text/x-python",
   "name": "python",
   "nbconvert_exporter": "python",
   "pygments_lexer": "ipython3",
   "version": "3.10.13"
  }
 },
 "nbformat": 4,
 "nbformat_minor": 2
}
